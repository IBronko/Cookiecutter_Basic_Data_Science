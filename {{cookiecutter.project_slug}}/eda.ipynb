{
 "cells": [
  {
   "cell_type": "code",
   "execution_count": 1,
   "id": "8b06b952",
   "metadata": {},
   "outputs": [],
   "source": [
    "import pandas as pd\n",
    "from pandas_profiling import ProfileReport"
   ]
  },
  {
   "cell_type": "markdown",
   "id": "6ced2b4d",
   "metadata": {},
   "source": [
    "# Import  and inspect raw data"
   ]
  },
  {
   "cell_type": "code",
   "execution_count": null,
   "id": "bd35a73a",
   "metadata": {},
   "outputs": [],
   "source": [
    "df = pd.read_csv(\"filename.csv\")\n",
    "\n",
    "# Let's take a quick look at the first rows\n",
    "\n",
    "df.head()"
   ]
  },
  {
   "cell_type": "code",
   "execution_count": null,
   "id": "a7ce03bb",
   "metadata": {},
   "outputs": [],
   "source": [
    "# Show columns\n",
    "\n",
    "df.columns"
   ]
  },
  {
   "cell_type": "code",
   "execution_count": null,
   "id": "ebc49704",
   "metadata": {},
   "outputs": [],
   "source": [
    "# Check datatypes\n",
    "\n",
    "df.dtypes"
   ]
  },
  {
   "cell_type": "code",
   "execution_count": null,
   "id": "a0641aa9",
   "metadata": {},
   "outputs": [],
   "source": [
    "# Check for missing values. \n",
    "\n",
    "df.isna().sum()"
   ]
  },
  {
   "cell_type": "markdown",
   "id": "b5c51500",
   "metadata": {},
   "source": [
    "# Quick EDA"
   ]
  },
  {
   "cell_type": "code",
   "execution_count": null,
   "id": "f7495389",
   "metadata": {},
   "outputs": [],
   "source": [
    "# A simple and quick way to get an overview is the pandas Profile Report\n",
    "\n",
    "profile = ProfileReport(df, title=\"Pandas Profiling Report\")\n",
    "profile"
   ]
  }
 ],
 "metadata": {
  "kernelspec": {
   "display_name": "Data_Acquisition",
   "language": "python",
   "name": "data_acquisition"
  },
  "language_info": {
   "codemirror_mode": {
    "name": "ipython",
    "version": 3
   },
   "file_extension": ".py",
   "mimetype": "text/x-python",
   "name": "python",
   "nbconvert_exporter": "python",
   "pygments_lexer": "ipython3",
   "version": "3.10.1"
  }
 },
 "nbformat": 4,
 "nbformat_minor": 5
}
